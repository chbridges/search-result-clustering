{
 "cells": [
  {
   "cell_type": "code",
   "execution_count": 1,
   "id": "0610d0d4",
   "metadata": {
    "scrolled": true
   },
   "outputs": [
    {
     "name": "stdout",
     "output_type": "stream",
     "text": [
      "500 results\n"
     ]
    }
   ],
   "source": [
    "import json\n",
    "from search_clustering.pipeline import *\n",
    "from search_clustering.client import *\n",
    "from search_clustering.preprocessing import *\n",
    "from search_clustering.embedding import *\n",
    "from search_clustering.reduction import *\n",
    "from search_clustering.clustering.spatial import *\n",
    "from search_clustering.clustering.temporal import *\n",
    "from search_clustering.labeling import *\n",
    "\n",
    "query = \"energie\"\n",
    "samples = 500\n",
    "use_cached_data = True\n",
    "\n",
    "if not use_cached_data:\n",
    "    es = ElasticClient()\n",
    "\n",
    "    for index in es.client.indices.get_alias():\n",
    "        print(index)\n",
    "\n",
    "    results = es.search(index=\"faz\", field=\"body\", query=query, size=1_000)\n",
    "\n",
    "    with open(f\"datasets/results_{query}.json\", \"w\") as json_file:\n",
    "        json.dump(results, json_file)\n",
    "\n",
    "else:\n",
    "    with open(f\"datasets/results_{query}.json\", \"r\") as json_file:\n",
    "        results = json.load(json_file)\n",
    "        results = [\n",
    "            res for res in results if res[\"_source\"][\"publication_date\"] is not None\n",
    "        ][:samples]\n",
    "\n",
    "\n",
    "print(f\"{len(results)} results\")\n",
    "# snippets = [res[\"snippet\"] for res in results]\n",
    "# bodies = [res[\"_source\"][\"body\"] for res in results]\n",
    "# titles = [res[\"_source\"][\"title\"] for res in results]\n",
    "# timestamps = [res[\"_source\"][\"publication_date\"] for res in results]"
   ]
  },
  {
   "cell_type": "code",
   "execution_count": null,
   "id": "852d7741",
   "metadata": {},
   "outputs": [
    {
     "name": "stdout",
     "output_type": "stream",
     "text": [
      "[1/6] Preprocessing\n"
     ]
    }
   ],
   "source": [
    "pipe = SpatialPipeline(\n",
    "    ParagraphKeywordPreprocessor(),\n",
    "    SentenceMiniLM(\"topics\"),\n",
    "    DensMAP(),\n",
    "    HDBSCAN(),\n",
    "    Topically(),\n",
    ")\n",
    "vecs, clusters, labels = pipe.run(results, visualize=True)"
   ]
  },
  {
   "cell_type": "code",
   "execution_count": null,
   "id": "e64f53a7",
   "metadata": {},
   "outputs": [],
   "source": [
    "for i in np.where(clusters == -1)[0]:\n",
    "    print(i, results[i][\"_source\"][\"title\"])"
   ]
  },
  {
   "cell_type": "code",
   "execution_count": null,
   "id": "d3dd1222",
   "metadata": {},
   "outputs": [],
   "source": [
    "import matplotlib.pyplot as plt\n",
    "import pandas as pd\n",
    "from datetime import timedelta\n",
    "\n",
    "timestamps = [res[\"_source\"][\"publication_date\"][:10] for res in results]\n",
    "\n",
    "df = pd.DataFrame(pd.to_datetime(timestamps), columns=[\"date\"])\n",
    "\n",
    "first_day = df.date.min()\n",
    "last_day = df.date.max()\n",
    "timespan = last_day - first_day\n",
    "interval = timedelta(30)\n",
    "bins = 100 #timespan // interval\n",
    "real_interval = timespan / bins\n",
    "\n",
    "hist = list(pd.np.histogram(df[\"date\"].astype(int), bins=bins, density=False))\n",
    "diff = abs(np.diff(hist[0]))\n",
    "\n",
    "plt.bar(range(bins), hist[0])\n",
    "plt.bar(np.arange(bins - 1) + 1, np.clip(diff - np.mean(diff), 0, np.inf))\n",
    "plt.show()"
   ]
  },
  {
   "cell_type": "code",
   "execution_count": null,
   "id": "51b235ff-5aba-401e-b1d7-e37c1b404658",
   "metadata": {},
   "outputs": [],
   "source": [
    "tpipe = TemporalPipeline(DummyPreprocessor(), TemporalClustering(target_bins=20, window_size=0), TemporalLabeling())\n",
    "docs, clusters, labels = tpipe.run(results, verbose=False)\n",
    "    \n",
    "colors = []\n",
    "for c in np.unique(clusters):\n",
    "    r = len(clusters[clusters == c]) / len(clusters) * bins + .5\n",
    "    colors += [f\"C{c}\" for _ in range(round(r))]\n",
    "plt.bar(range(bins), hist[0], color=colors)\n",
    "plt.show()\n",
    "\n",
    "#for label in labels:\n",
    "#    print(label)"
   ]
  },
  {
   "cell_type": "code",
   "execution_count": null,
   "id": "aa631e9d-73c7-4048-bd17-1d157400b795",
   "metadata": {},
   "outputs": [],
   "source": [
    "tpipe = TemporalPipeline(DummyPreprocessor(), TemporalClustering(target_bins=10, window_size=\"auto\"), TemporalLabeling())\n",
    "docs, clusters, labels = tpipe.run(results, verbose=False)\n",
    "    \n",
    "colors = []\n",
    "for c in np.unique(clusters):\n",
    "    r = len(clusters[clusters == c]) / len(clusters) * bins + 1\n",
    "    colors += [f\"C{c}\" for _ in range(int(r))]\n",
    "plt.bar(range(bins), hist[0], color=colors)\n",
    "plt.show()\n",
    "\n",
    "for label in labels:\n",
    "    print(label)"
   ]
  }
 ],
 "metadata": {
  "kernelspec": {
   "display_name": "elastic",
   "language": "python",
   "name": "elastic"
  },
  "language_info": {
   "codemirror_mode": {
    "name": "ipython",
    "version": 3
   },
   "file_extension": ".py",
   "mimetype": "text/x-python",
   "name": "python",
   "nbconvert_exporter": "python",
   "pygments_lexer": "ipython3",
   "version": "3.9.13"
  }
 },
 "nbformat": 4,
 "nbformat_minor": 5
}
