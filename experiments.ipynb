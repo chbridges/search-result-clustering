{
 "cells": [
  {
   "cell_type": "code",
   "execution_count": 1,
   "id": "d7d204a2-1d61-488b-8c5d-25b5cb14e15c",
   "metadata": {},
   "outputs": [],
   "source": [
    "from search_clustering.pipeline import *\n",
    "from search_clustering.client import *\n",
    "from search_clustering.preprocessing import *\n",
    "from search_clustering.embedding import *\n",
    "from search_clustering.reduction import *\n",
    "from search_clustering.clustering.knn import *\n",
    "from search_clustering.clustering.temporal import *\n",
    "from search_clustering.labeling import *"
   ]
  },
  {
   "cell_type": "code",
   "execution_count": 2,
   "id": "0610d0d4",
   "metadata": {
    "scrolled": true
   },
   "outputs": [
    {
     "name": "stdout",
     "output_type": "stream",
     "text": [
      "100 results\n"
     ]
    }
   ],
   "source": [
    "import json\n",
    "\n",
    "query = \"energie\"\n",
    "samples = 100\n",
    "use_cached_data = True\n",
    "\n",
    "if not use_cached_data:\n",
    "    es = ElasticClient()\n",
    "\n",
    "    for index in es.client.indices.get_alias():\n",
    "        print(index)\n",
    "\n",
    "    results = es.search(index=\"faz\", field=\"body\", query=query, size=1_000)\n",
    "\n",
    "    with open(f\"datasets/results_{query}.json\", \"w\") as json_file:\n",
    "        json.dump(results, json_file)\n",
    "\n",
    "\n",
    "with open(f\"datasets/results_{query}.json\", \"r\") as json_file:\n",
    "    results = json.load(json_file)\n",
    "    results = [\n",
    "        res for res in results if res[\"_source\"][\"publication_date\"] is not None\n",
    "    ][:samples]\n",
    "\n",
    "\n",
    "print(f\"{len(results)} results\")\n",
    "# snippets = [res[\"snippet\"] for res in results]\n",
    "# bodies = [res[\"_source\"][\"body\"] for res in results]\n",
    "# titles = [res[\"_source\"][\"title\"] for res in results]\n",
    "# timestamps = [res[\"_source\"][\"publication_date\"] for res in results]"
   ]
  },
  {
   "cell_type": "code",
   "execution_count": null,
   "id": "83763934-82cc-4af5-bf15-9f0650028874",
   "metadata": {},
   "outputs": [],
   "source": [
    "pipe = SpatialPipeline(\n",
    "    DummyPreprocessor(),\n",
    "    SentenceMiniLM(\"body\"),\n",
    "    Umap(32),\n",
    "    DummyClustering(),\n",
    "    DummyLabeling(),\n",
    ")\n",
    "\n",
    "pipe.fit_transform(results, title=\"MiniLM + UMAP\")"
   ]
  },
  {
   "cell_type": "code",
   "execution_count": null,
   "id": "852d7741",
   "metadata": {},
   "outputs": [],
   "source": [
    "pipe = SpatialPipeline(\n",
    "    ParagraphKeyphraseExtractor(),\n",
    "    SentenceMiniLM(\"topics\"),\n",
    "    UMAP(),\n",
    "    HDBSCAN(),\n",
    "    Topically(),\n",
    ")\n",
    "\n",
    "print(f\"Query: {query}\")\n",
    "docs, clusters, labels = pipe.run(results, visualize=True)\n",
    "\n",
    "cache = [clusters, labels]\n",
    "cluster = results\n",
    "\n",
    "while True:\n",
    "    max_i = max(list(clusters), key=list(clusters).count)\n",
    "    cluster = [cluster[i] for i in np.where(clusters == max_i)[0]]\n",
    "    if len(cluster) < 10:\n",
    "        break\n",
    "    print(labels[max_i])\n",
    "    docs, clusters, labels = pipe.run(cluster, visualize=True, verbose=False)"
   ]
  },
  {
   "cell_type": "code",
   "execution_count": null,
   "id": "0cbbca2e",
   "metadata": {},
   "outputs": [],
   "source": [
    "from datetime import datetime\n",
    "\n",
    "for j in range(max(cache[0])):\n",
    "    indices = np.where(cache[0] == j)[0]\n",
    "    timestamps = [results[i][\"_source\"][\"publication_date\"] for i in indices]\n",
    "    timestamps = [datetime.strptime(stamp, \"%Y-%m-%d %H:%M:%S\") for stamp in timestamps]\n",
    "    plt.scatter(\n",
    "        timestamps,\n",
    "        [len(cache[1]) - j - 1 for _ in range(len(timestamps))],\n",
    "        label=cache[1][j],\n",
    "    )\n",
    "\n",
    "plt.legend(loc=\"center left\", bbox_to_anchor=(1, 0.5))\n",
    "plt.show()"
   ]
  },
  {
   "cell_type": "code",
   "execution_count": null,
   "id": "05af709c",
   "metadata": {},
   "outputs": [],
   "source": [
    "scores = [doc[\"_score\"] for doc in results]\n",
    "\n",
    "plt.plot(scores)\n",
    "plt.show()\n",
    "\n",
    "for j in set(clusters[0]):\n",
    "    idx = np.where(clusters[0] == j)[0]\n",
    "    cluster_docs = [results[i] for i in idx]\n",
    "    scores = [doc[\"_score\"] for doc in cluster_docs]\n",
    "    plt.scatter([j for _ in range(len(scores))], scores, label=cache[1][j])\n",
    "\n",
    "plt.legend(loc=\"center left\", bbox_to_anchor=(1, 0.5))\n",
    "plt.show()"
   ]
  },
  {
   "cell_type": "code",
   "execution_count": null,
   "id": "d3dd1222",
   "metadata": {},
   "outputs": [],
   "source": [
    "import matplotlib.pyplot as plt\n",
    "import pandas as pd\n",
    "from datetime import timedelta\n",
    "\n",
    "timestamps = [res[\"_source\"][\"publication_date\"][:10] for res in results]\n",
    "\n",
    "df = pd.DataFrame(pd.to_datetime(timestamps), columns=[\"date\"])\n",
    "\n",
    "first_day = df.date.min()\n",
    "last_day = df.date.max()\n",
    "timespan = last_day - first_day\n",
    "interval = timedelta(30)\n",
    "bins = 10  # timespan // interval\n",
    "real_interval = timespan / bins\n",
    "\n",
    "hist = list(pd.np.histogram(df[\"date\"].astype(int), bins=bins, density=False))\n",
    "diff = abs(np.diff(hist[0]))\n",
    "\n",
    "plt.figure(figsize=(5, 4))\n",
    "plt.bar(range(bins), hist[0], label=r\"$h_i$\")\n",
    "plt.bar(np.arange(bins - 1) + 1, np.clip(diff, 0, np.inf), label=r\"$|\\Delta h_i |$\")\n",
    "plt.plot(range(bins), [np.mean(diff) for _ in range(bins)], color=\"C2\", linewidth=2)\n",
    "plt.bar(0, 0, color=\"C2\", label=r\"mean $|\\Delta h_i |$\")\n",
    "plt.xticks(range(0, 10), xlabels[::1], rotation=90)\n",
    "plt.yticks(range(0, 21, 2))\n",
    "plt.legend()\n",
    "plt.show()"
   ]
  },
  {
   "cell_type": "code",
   "execution_count": null,
   "id": "feef2641-6b50-49e0-88c7-a6c3997957a0",
   "metadata": {},
   "outputs": [],
   "source": [
    "colors = [\"C0\", \"C0\", \"C0\", \"C1\", \"C2\", \"C2\", \"C2\", \"C2\", \"C3\", \"C3\"]\n",
    "\n",
    "plt.figure(figsize=(5, 4))\n",
    "plt.bar(range(bins), hist[0], color=colors, label=r\"$c_1$\")\n",
    "plt.bar(0, 0, color=\"C1\", label=r\"$c_2$\")\n",
    "plt.bar(0, 0, color=\"C2\", label=r\"$c_3$\")\n",
    "plt.bar(0, 0, color=\"C3\", label=r\"$c_4$\")\n",
    "plt.xticks(range(0, 10), xlabels[::1], rotation=90)\n",
    "plt.yticks(range(0, 21, 2))\n",
    "plt.legend()\n",
    "plt.show()"
   ]
  },
  {
   "cell_type": "code",
   "execution_count": null,
   "id": "a69c3ff5-ba89-4237-a61c-d3695da463ad",
   "metadata": {},
   "outputs": [],
   "source": [
    "import matplotlib.pyplot as plt\n",
    "import pandas as pd\n",
    "from datetime import timedelta\n",
    "\n",
    "timestamps = [res[\"_source\"][\"publication_date\"][:10] for res in results]\n",
    "\n",
    "df = pd.DataFrame(pd.to_datetime(timestamps), columns=[\"date\"])\n",
    "\n",
    "first_day = df.date.min()\n",
    "last_day = df.date.max()\n",
    "timespan = last_day - first_day\n",
    "interval = timedelta(30)\n",
    "bins = 10  # timespan // interval\n",
    "real_interval = timespan / bins\n",
    "\n",
    "xlabels = [str(first_day + i * real_interval)[:10] for i in range(bins)]\n",
    "\n",
    "hist = list(pd.np.histogram(df[\"date\"].astype(int), bins=bins, density=False))\n",
    "diff = abs(np.gradient(hist[0]))\n",
    "\n",
    "plt.figure(figsize=(5, 4))\n",
    "plt.bar(range(bins), hist[0], label=r\"$h_i$\")\n",
    "plt.bar(range(bins), np.clip(diff, 0, np.inf), label=r\"$|\\partial h_i |$\")\n",
    "plt.plot(range(bins), [np.mean(diff) for _ in range(bins)], color=\"C2\", linewidth=2)\n",
    "plt.bar(0, 0, color=\"C2\", label=r\"mean $|\\partial h_i |$\")\n",
    "plt.xticks(range(0, 10), xlabels[::1], rotation=90)\n",
    "plt.yticks(range(0, 21, 2))\n",
    "plt.legend()\n",
    "plt.show()"
   ]
  },
  {
   "cell_type": "code",
   "execution_count": null,
   "id": "2267417f-d239-4c36-a18f-32455f1041d1",
   "metadata": {},
   "outputs": [],
   "source": [
    "colors = [\"C0\", \"C0\", \"C1\", \"C1\", \"C2\", \"C2\", \"C2\", \"C3\", \"C3\", \"C4\"]\n",
    "\n",
    "plt.figure(figsize=(5, 4))\n",
    "plt.bar(range(bins), hist[0], color=colors, label=r\"$c_1$\")\n",
    "plt.bar(0, 0, color=\"C1\", label=r\"$c_2$\")\n",
    "plt.bar(0, 0, color=\"C2\", label=r\"$c_3$\")\n",
    "plt.bar(0, 0, color=\"C3\", label=r\"$c_4$\")\n",
    "plt.bar(0, 0, color=\"C4\", label=r\"$c_5$\")\n",
    "plt.xticks(range(0, 10), xlabels[::1], rotation=90)\n",
    "plt.yticks(range(0, 21, 2))\n",
    "plt.legend()\n",
    "plt.show()"
   ]
  },
  {
   "cell_type": "code",
   "execution_count": 4,
   "id": "51b235ff-5aba-401e-b1d7-e37c1b404658",
   "metadata": {},
   "outputs": [
    {
     "data": {
      "image/png": "[encoded data removed]",
      "text/plain": [
       "<Figure size 500x400 with 1 Axes>"
      ]
     },
     "metadata": {},
     "output_type": "display_data"
    }
   ],
   "source": [
    "tpipe = TemporalPipeline(\n",
    "    DummyPreprocessor(),\n",
    "    TemporalClustering(target_bins=20, window_size=0),\n",
    "    TemporalLabeling(),\n",
    ")\n",
    "docs, clusters1, labels = tpipe.fit_transform(results, verbose=False)"
   ]
  },
  {
   "cell_type": "code",
   "execution_count": null,
   "id": "aaf5417f-f3ee-47c7-a53e-799a79bff275",
   "metadata": {},
   "outputs": [],
   "source": [
    "def get_colors(hist, clusters):\n",
    "    colors = list(hist[0])\n",
    "    print(type(hist[0]))\n",
    "\n",
    "    count_in_cluster = 0\n",
    "    s = 0\n",
    "\n",
    "    for i in range(len(color)):\n",
    "        s += color[i]\n",
    "        color[i] = f\"C{c}\"\n",
    "        if s >= len(clusters[clusters == c]):\n",
    "            c += 1\n",
    "            s = 0\n",
    "\n",
    "    return color"
   ]
  },
  {
   "cell_type": "code",
   "execution_count": null,
   "id": "aa631e9d-73c7-4048-bd17-1d157400b795",
   "metadata": {
    "scrolled": true
   },
   "outputs": [],
   "source": [
    "tpipe = TemporalPipeline(\n",
    "    DummyPreprocessor(),\n",
    "    TemporalClustering(target_bins=8, window_size=\"auto\"),\n",
    "    TemporalLabeling(),\n",
    ")\n",
    "docs, clusters2, labels = tpipe.run(results, verbose=False)\n",
    "\n",
    "colors = get_colors(hist, clusters2)\n",
    "plt.bar(range(bins), hist[0], color=colors)\n",
    "plt.show()\n",
    "\n",
    "for label in labels:\n",
    "    print(label)"
   ]
  },
  {
   "cell_type": "code",
   "execution_count": null,
   "id": "9da556ed-8fc7-4546-a112-9aa7203963cf",
   "metadata": {},
   "outputs": [],
   "source": [
    "from nltk.tokenize import word_tokenize\n",
    "\n",
    "n_tokens = []\n",
    "\n",
    "for i in range(len(results)):\n",
    "    r = results[i][\"_source\"][\"body\"]\n",
    "    n_tokens.append(len(word_tokenize(r)))\n",
    "\n",
    "d = describe(n_tokens)\n",
    "\n",
    "pd.DataFrame(n_tokens).hist(bins=20)"
   ]
  }
 ],
 "metadata": {
  "kernelspec": {
   "display_name": "elastic",
   "language": "python",
   "name": "elastic"
  },
  "language_info": {
   "codemirror_mode": {
    "name": "ipython",
    "version": 3
   },
   "file_extension": ".py",
   "mimetype": "text/x-python",
   "name": "python",
   "nbconvert_exporter": "python",
   "pygments_lexer": "ipython3",
   "version": "3.9.13"
  }
 },
 "nbformat": 4,
 "nbformat_minor": 5
}
