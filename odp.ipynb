{
 "cells": [
  {
   "cell_type": "code",
   "execution_count": 1,
   "id": "edbea1a4-e119-47d2-80a2-985969fd8da0",
   "metadata": {},
   "outputs": [],
   "source": [
    "from search_clustering.pipeline import *\n",
    "from search_clustering.client import *\n",
    "from search_clustering.preprocessing import *\n",
    "from search_clustering.embedding import *\n",
    "from search_clustering.reduction import *\n",
    "from search_clustering.clustering.spatial import *\n",
    "from search_clustering.clustering.temporal import *\n",
    "from search_clustering.labeling import *\n",
    "from search_clustering.utils.odp_239 import *\n",
    "\n",
    "data = load_odp239()\n",
    "data = embed_odp239_labels(data)"
   ]
  },
  {
   "cell_type": "code",
   "execution_count": 2,
   "id": "f2e928a8-bd94-4ad3-ab14-080c4d317491",
   "metadata": {},
   "outputs": [],
   "source": [
    "from sklearn.neighbors import KNeighborsClassifier\n",
    "from sklearn.metrics import fowlkes_mallows_score\n",
    "import numpy as np\n",
    "from collections import Counter\n",
    "from scipy.stats import describe\n",
    "from search_clustering.pipeline import *\n",
    "from flair.data import Sentence\n",
    "from flair.embeddings import DocumentPoolEmbeddings, WordEmbeddings\n",
    "from typing import Optional\n",
    "from pprint import pprint\n",
    "from tqdm import tqdm"
   ]
  },
  {
   "cell_type": "code",
   "execution_count": 3,
   "id": "cddfa127-d9ff-423c-a35e-a42fa956e2d9",
   "metadata": {},
   "outputs": [
    {
     "name": "stderr",
     "output_type": "stream",
     "text": [
      "  0%|                                                    | 0/14 [00:00<?, ?it/s]"
     ]
    },
    {
     "name": "stdout",
     "output_type": "stream",
     "text": [
      "huggingface/tokenizers: The current process just got forked, after parallelism has already been used. Disabling parallelism to avoid deadlocks...\n",
      "To disable this warning, you can either:\n",
      "\t- Avoid using `tokenizers` before the fork if possible\n",
      "\t- Explicitly set the environment variable TOKENIZERS_PARALLELISM=(true | false)\n"
     ]
    },
    {
     "name": "stderr",
     "output_type": "stream",
     "text": [
      "100%|████████████████████████████████████████| 14/14 [1:16:01<00:00, 325.80s/it]\n"
     ]
    }
   ],
   "source": [
    "pipe = SpatialPipeline(ColumnMerger([\"title\", \"snippet\"]), SentenceMiniLM(\"merged\"), Umap(), KMeans(), FrequentPhrases(language=\"english\"))\n",
    "\n",
    "embeddings = DocumentPoolEmbeddings(WordEmbeddings(\"en-glove\"))\n",
    "\n",
    "clusters = {}\n",
    "label_embeddings = {}\n",
    "\n",
    "for category in tqdm(data):\n",
    "    data_cat = data[category]\n",
    "    _, clusters_cat, labels_cat = pipe.fit_transform(data_cat[\"data\"], visualize=False, verbose=False)\n",
    "    label_embeddings_cat = [embed_target_name(label, embeddings) for label in labels_cat]\n",
    "    clusters[category] = clusters_cat\n",
    "    label_embeddings[category] = np.vstack(label_embeddings_cat)"
   ]
  },
  {
   "cell_type": "code",
   "execution_count": 4,
   "id": "47d6b03f-0f45-4adc-acc3-9d868e438a27",
   "metadata": {},
   "outputs": [
    {
     "name": "stderr",
     "output_type": "stream",
     "text": [
      "100%|███████████████████████████████████████████| 24/24 [00:03<00:00,  7.81it/s]\n"
     ]
    }
   ],
   "source": [
    "mean_scores = [0]\n",
    "median_scores = [0]\n",
    "std_scores = [0]\n",
    "\n",
    "for i in tqdm(range(1, 25)):\n",
    "    scores = []\n",
    "    for category in data:\n",
    "        score_cat = score_knn(data[category], clusters[category], label_embeddings[category], n_neighbors = i)\n",
    "        scores.append(score_cat)\n",
    "    mean_scores.append(np.mean(scores))\n",
    "    median_scores.append(np.median(scores))\n",
    "    std_scores.append(np.std(scores))"
   ]
  },
  {
   "cell_type": "code",
   "execution_count": 10,
   "id": "604c1097-c1da-4c83-94a4-c62a25f152c6",
   "metadata": {},
   "outputs": [
    {
     "data": {
      "text/plain": [
       "0.3298723613199628"
      ]
     },
     "execution_count": 10,
     "metadata": {},
     "output_type": "execute_result"
    }
   ],
   "source": [
    "mean_scores[1]"
   ]
  },
  {
   "cell_type": "code",
   "execution_count": 6,
   "id": "e0592339-5112-4872-afb3-343a27ad4c3f",
   "metadata": {},
   "outputs": [],
   "source": [
    "subtopics = []\n",
    "\n",
    "for category in data:\n",
    "    counts = list(Counter(data[category][\"target_embeddings\"].values()).values())\n",
    "    subtopics.extend(counts)\n",
    "    \n",
    "Counter(subtopics)"
   ]
  },
  {
   "cell_type": "code",
   "execution_count": 14,
   "id": "16a340b2-c73c-4dee-9591-7754ac1c4013",
   "metadata": {},
   "outputs": [
    {
     "data": {
      "text/plain": [
       "['cycling, bicycle, bike (108)',\n",
       " 'team, club, athletic (60)',\n",
       " 'bowling, bowls, bowl (88)',\n",
       " 'rodeo, association, rodeo association (97)',\n",
       " 'golf, club, golf club (100)',\n",
       " 'cricket, club, cricket club (121)',\n",
       " 'skate, skateboarding, skateparks (96)',\n",
       " 'fantasy, league, football (64)',\n",
       " 'cheerleading, university, cheer (75)',\n",
       " 'tennis, college, women s tennis (92)',\n",
       " 'boxing, club, boxing club (82)',\n",
       " 'paintball, games, paintball games (82)',\n",
       " 'ryu, karate, goju (97)',\n",
       " 'adventure, racing, adventure racing (176)',\n",
       " 'sports, association, special (92)',\n",
       " 'football, com, soccer (130)',\n",
       " 'lacrosse, men, men s lacrosse (118)',\n",
       " 'basketball, college, men s basketball (108)',\n",
       " 'curly, horse, farm (92)',\n",
       " 'university, college, baseball (118)',\n",
       " 'com, rowing, surf (99)',\n",
       " 'com, quot, jr (136)',\n",
       " 'volleyball, club, volleyball club (50)',\n",
       " 'baseball, league, com (100)',\n",
       " 'track, field, track and field (128)',\n",
       " 'hockey, men, university (110)',\n",
       " 'racing, autocross, com (105)',\n",
       " 'hash, harriers, house harriers (19)',\n",
       " 'sports, com, news (142)']"
      ]
     },
     "execution_count": 14,
     "metadata": {},
     "output_type": "execute_result"
    }
   ],
   "source": [
    "from scipy.stats import describe\n",
    "\n",
    "describe(mean_scores)\n",
    "labels_cat"
   ]
  }
 ],
 "metadata": {
  "kernelspec": {
   "display_name": "elastic",
   "language": "python",
   "name": "elastic"
  },
  "language_info": {
   "codemirror_mode": {
    "name": "ipython",
    "version": 3
   },
   "file_extension": ".py",
   "mimetype": "text/x-python",
   "name": "python",
   "nbconvert_exporter": "python",
   "pygments_lexer": "ipython3",
   "version": "3.9.13"
  }
 },
 "nbformat": 4,
 "nbformat_minor": 5
}
