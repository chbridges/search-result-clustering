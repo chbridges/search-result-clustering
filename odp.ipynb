{
 "cells": [
  {
   "cell_type": "code",
   "execution_count": null,
   "id": "edbea1a4-e119-47d2-80a2-985969fd8da0",
   "metadata": {},
   "outputs": [],
   "source": [
    "from collections import Counter\n",
    "from typing import Optional\n",
    "\n",
    "import numpy as np\n",
    "from flair.data import Sentence\n",
    "from flair.embeddings import DocumentPoolEmbeddings, WordEmbeddings\n",
    "from scipy.stats import describe\n",
    "from tqdm import tqdm\n",
    "\n",
    "from search_clustering.clustering.knn import *\n",
    "from search_clustering.embedding import *\n",
    "from search_clustering.labeling import *\n",
    "from search_clustering.pipeline import KNNPipeline\n",
    "from search_clustering.preprocessing import *\n",
    "from search_clustering.reduction import *\n",
    "from search_clustering.utils.odp_239 import *\n",
    "from sklearn.model_selection import ParameterGrid\n",
    "\n",
    "from pprint import pprint\n",
    "\n",
    "\n",
    "df = read_odp239_to_df()\n",
    "data = create_odp239_splits(df)"
   ]
  },
  {
   "cell_type": "code",
   "execution_count": null,
   "id": "3de141f6-18d5-4440-83a6-3c816621b1d7",
   "metadata": {},
   "outputs": [],
   "source": [
    "from search_clustering.presets.odp_239 import *\n",
    "from sklearn.metrics import adjusted_rand_score\n",
    "\n",
    "pipelines = make_pipelines(params_merged)\n",
    "scores = {}\n",
    "mean_scores = {}\n",
    "\n",
    "for identifier, pipeline in tqdm(pipelines.items(), desc=\"Pipelines\"):\n",
    "    scores_pipe = {}\n",
    "\n",
    "    for cat in data.keys():\n",
    "        _, clusters, _ = pipeline.fit_transform(\n",
    "            data[cat][\"data\"], verbose=False, visualize=False\n",
    "        )\n",
    "        score = adjusted_rand_score(clusters, data[cat][\"target\"])\n",
    "        scores_pipe[cat] = score\n",
    "\n",
    "    scores[identifier] = scores_pipe\n",
    "    mean_scores[identifier] = np.mean(list(scores_pipe.values()))\n",
    "\n",
    "pprint(mean_scores)"
   ]
  }
 ],
 "metadata": {
  "kernelspec": {
   "display_name": "elastic",
   "language": "python",
   "name": "elastic"
  },
  "language_info": {
   "codemirror_mode": {
    "name": "ipython",
    "version": 3
   },
   "file_extension": ".py",
   "mimetype": "text/x-python",
   "name": "python",
   "nbconvert_exporter": "python",
   "pygments_lexer": "ipython3",
   "version": "3.9.13"
  }
 },
 "nbformat": 4,
 "nbformat_minor": 5
}
